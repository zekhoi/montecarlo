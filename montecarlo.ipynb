{
  "nbformat": 4,
  "nbformat_minor": 0,
  "metadata": {
    "colab": {
      "name": "montecarlo.ipynb",
      "provenance": [],
      "collapsed_sections": []
    },
    "kernelspec": {
      "name": "python3",
      "display_name": "Python 3"
    }
  },
  "cells": [
    {
      "cell_type": "code",
      "metadata": {
        "id": "2bc50vPLdTT4"
      },
      "source": [
        "#Import Modul yang diperlukan\n",
        "import numpy as np\n",
        "import matplotlib.pyplot as plt\n",
        "from prettytable import PrettyTable"
      ],
      "execution_count": 1,
      "outputs": []
    },
    {
      "cell_type": "code",
      "metadata": {
        "id": "mh6-IdsIdZB8",
        "colab": {
          "base_uri": "https://localhost:8080/"
        },
        "outputId": "d439bd8b-08c2-4fb5-e9d7-d6fcdec95752"
      },
      "source": [
        "#Data Himpunan Awal\n",
        "minta = [25, 35, 40, 45, 30, 55, 20, 15, 10, 50, 25, 55, 60, 30]\n",
        "\n",
        "frequensi = np.random.randint(1, 25, size=14)\n",
        "\n",
        "print(frequensi)\n",
        "\n",
        "ngacak = []\n",
        "interval = []\n",
        "simulasi = []\n",
        "untung = []\n",
        "\n",
        "hari = [1, 2, 3, 4, 5, 6, 7, 8, 9, 10, 11, 12, 13, 14]\n",
        "\n",
        "# Himpunan distribusi kumulatif dengan nilai awal 0\n",
        "kumulatif= [0]"
      ],
      "execution_count": 2,
      "outputs": [
        {
          "output_type": "stream",
          "text": [
            "[21 12 17  4 24  1 11  6  8 21 13  9  4  9]\n"
          ],
          "name": "stdout"
        }
      ]
    },
    {
      "cell_type": "code",
      "metadata": {
        "id": "cu1DQ5fZMVL7"
      },
      "source": [
        "#Deklarasi variabel awal\n",
        "freqtot = 0\n",
        "distp = 0\n",
        "freqi = 0\n",
        "dari=0\n",
        "alpha = 43\n",
        "c = 37\n",
        "m = 61\n",
        "nilais = 0\n",
        "harga = 40000\n",
        "modal = 20000\n",
        "jadi = 0"
      ],
      "execution_count": 3,
      "outputs": []
    },
    {
      "cell_type": "code",
      "metadata": {
        "id": "z3_4VsIkMWpZ"
      },
      "source": [
        "#Fungsi untuk Menghitung Probabilitas\n",
        "def kemungkinan(freq, n):\n",
        "    return freq/n\n",
        "    \n",
        "#Fungsi untuk Menghitung angka acak dengan rumus\n",
        "def angacak(x,a,c):\n",
        "    return (x*a+c)\n",
        "    \n",
        "def mod(x,m):\n",
        "    return x % m\n",
        "\n",
        "#Fungsi untuk Mencari nilai dalam interval\n",
        "def find(minta,kumulatif,interval,angka):\n",
        "    for i in range(8):\n",
        "        if (kumulatif[i] <= angka <=interval[i]):\n",
        "            nilai = minta[i]\n",
        "        else:\n",
        "            pass\n",
        "    return nilai"
      ],
      "execution_count": 4,
      "outputs": []
    },
    {
      "cell_type": "code",
      "metadata": {
        "colab": {
          "base_uri": "https://localhost:8080/"
        },
        "id": "K5AWxhmXMuF6",
        "outputId": "49fea794-eec5-4dbe-85b4-bb954023da2c"
      },
      "source": [
        "# Menghitung jumlah Frequensi\n",
        "for i in range(len(frequensi)):\n",
        "    freqtot += frequensi[i]\n",
        "print(freqtot)"
      ],
      "execution_count": 5,
      "outputs": [
        {
          "output_type": "stream",
          "text": [
            "160\n"
          ],
          "name": "stdout"
        }
      ]
    },
    {
      "cell_type": "code",
      "metadata": {
        "colab": {
          "base_uri": "https://localhost:8080/"
        },
        "id": "lDJBC9HoMxyN",
        "outputId": "f53a0789-7cc2-407d-bdf2-da72b2ebec76"
      },
      "source": [
        "#Menghitung Distribusi Kemungkinan, Kumulatif dan Interval angka Acak\n",
        "table1 = PrettyTable(['No', 'Permintaan/hari(kg)','Frekuensi','Distribusi Kemungkinan','Distribusi Kemungkinan Kumulatif'])\n",
        "table2 = PrettyTable(['No', 'Permintaan/hari(kg)','Distribusi Kemungkinan','Distribusi Kemungkinan Kumulatif','Interval Angka'])\n",
        "for i in range(len(minta)):\n",
        "    dist = kemungkinan(frequensi[i], freqtot)\n",
        "    distp += dist\n",
        "    kum = round(distp, 2)\n",
        "    sampai = int(kum*100)\n",
        "    interval.append(sampai)\n",
        "    table1.add_row([i+1,minta[i], frequensi[i], round(dist,2), kum])\n",
        "    table2.add_row([i+1,minta[i], round(dist,2), kum, f'{kumulatif[i]} - {sampai}'])\n",
        "    kumulatif.append(int(kum*100+1))\n",
        "print(table1)\n",
        "print('Total Frequensi =', freqtot)\n",
        "print(table2)"
      ],
      "execution_count": 6,
      "outputs": [
        {
          "output_type": "stream",
          "text": [
            "+----+---------------------+-----------+------------------------+----------------------------------+\n",
            "| No | Permintaan/hari(kg) | Frekuensi | Distribusi Kemungkinan | Distribusi Kemungkinan Kumulatif |\n",
            "+----+---------------------+-----------+------------------------+----------------------------------+\n",
            "| 1  |          25         |     21    |          0.13          |               0.13               |\n",
            "| 2  |          35         |     12    |          0.08          |               0.21               |\n",
            "| 3  |          40         |     17    |          0.11          |               0.31               |\n",
            "| 4  |          45         |     4     |          0.02          |               0.34               |\n",
            "| 5  |          30         |     24    |          0.15          |               0.49               |\n",
            "| 6  |          55         |     1     |          0.01          |               0.49               |\n",
            "| 7  |          20         |     11    |          0.07          |               0.56               |\n",
            "| 8  |          15         |     6     |          0.04          |               0.6                |\n",
            "| 9  |          10         |     8     |          0.05          |               0.65               |\n",
            "| 10 |          50         |     21    |          0.13          |               0.78               |\n",
            "| 11 |          25         |     13    |          0.08          |               0.86               |\n",
            "| 12 |          55         |     9     |          0.06          |               0.92               |\n",
            "| 13 |          60         |     4     |          0.02          |               0.94               |\n",
            "| 14 |          30         |     9     |          0.06          |               1.0                |\n",
            "+----+---------------------+-----------+------------------------+----------------------------------+\n",
            "Total Frequensi = 160\n",
            "+----+---------------------+------------------------+----------------------------------+----------------+\n",
            "| No | Permintaan/hari(kg) | Distribusi Kemungkinan | Distribusi Kemungkinan Kumulatif | Interval Angka |\n",
            "+----+---------------------+------------------------+----------------------------------+----------------+\n",
            "| 1  |          25         |          0.13          |               0.13               |     0 - 13     |\n",
            "| 2  |          35         |          0.08          |               0.21               |    14 - 21     |\n",
            "| 3  |          40         |          0.11          |               0.31               |    22 - 31     |\n",
            "| 4  |          45         |          0.02          |               0.34               |    32 - 34     |\n",
            "| 5  |          30         |          0.15          |               0.49               |    35 - 49     |\n",
            "| 6  |          55         |          0.01          |               0.49               |    50 - 49     |\n",
            "| 7  |          20         |          0.07          |               0.56               |    50 - 56     |\n",
            "| 8  |          15         |          0.04          |               0.6                |    57 - 60     |\n",
            "| 9  |          10         |          0.05          |               0.65               |    61 - 65     |\n",
            "| 10 |          50         |          0.13          |               0.78               |    66 - 78     |\n",
            "| 11 |          25         |          0.08          |               0.86               |    79 - 86     |\n",
            "| 12 |          55         |          0.06          |               0.92               |    87 - 92     |\n",
            "| 13 |          60         |          0.02          |               0.94               |    93 - 94     |\n",
            "| 14 |          30         |          0.06          |               1.0                |    95 - 100    |\n",
            "+----+---------------------+------------------------+----------------------------------+----------------+\n"
          ],
          "name": "stdout"
        }
      ]
    },
    {
      "cell_type": "code",
      "metadata": {
        "colab": {
          "base_uri": "https://localhost:8080/"
        },
        "id": "racap6XtNDwJ",
        "outputId": "cbcc8cd2-42f4-46dc-cb8c-8056d1b90416"
      },
      "source": [
        "#Menghitung Angka Acak\n",
        "acak = np.random.randint(100)\n",
        "ngacak.append(acak)\n",
        "\n",
        "table3 = PrettyTable(['No', 'Xa+C mod M','Xi','Ui=Xi/M'])\n",
        "for i in range(len(minta)):\n",
        "    acak = angacak(ngacak[i],alpha,c)\n",
        "    xi = mod(acak,m)\n",
        "    ngacak.append(xi)\n",
        "    u = round(xi / m,3)\n",
        "    table3.add_row([i+1, acak, xi , u])\n",
        "print(ngacak[0])\n",
        "ngacak.pop(0)\n",
        "print(table3)\n",
        "\n",
        "table4 = PrettyTable(['No', 'Permintaan/hari(kg)','Interval Angka Acak','Bilangan Acak','Simulasi Permintaan'])\n",
        "for i in range(len(minta)):\n",
        "    nilai = find(minta,kumulatif,interval,ngacak[i])\n",
        "    table4.add_row([i+1,minta[i], f'{kumulatif[i]}-{interval[i]}', ngacak[i], nilai])\n",
        "    simulasi.append(nilai)\n",
        "    nilais +=nilai\n",
        "print(table4)\n",
        "print('Total Permintaan =', nilais , 'kg')"
      ],
      "execution_count": 7,
      "outputs": [
        {
          "output_type": "stream",
          "text": [
            "59\n",
            "+----+------------+----+---------+\n",
            "| No | Xa+C mod M | Xi | Ui=Xi/M |\n",
            "+----+------------+----+---------+\n",
            "| 1  |    2574    | 12 |  0.197  |\n",
            "| 2  |    553     | 4  |  0.066  |\n",
            "| 3  |    209     | 26 |  0.426  |\n",
            "| 4  |    1155    | 57 |  0.934  |\n",
            "| 5  |    2488    | 48 |  0.787  |\n",
            "| 6  |    2101    | 27 |  0.443  |\n",
            "| 7  |    1198    | 39 |  0.639  |\n",
            "| 8  |    1714    | 6  |  0.098  |\n",
            "| 9  |    295     | 51 |  0.836  |\n",
            "| 10 |    2230    | 34 |  0.557  |\n",
            "| 11 |    1499    | 35 |  0.574  |\n",
            "| 12 |    1542    | 17 |  0.279  |\n",
            "| 13 |    768     | 36 |   0.59  |\n",
            "| 14 |    1585    | 60 |  0.984  |\n",
            "+----+------------+----+---------+\n",
            "+----+---------------------+---------------------+---------------+---------------------+\n",
            "| No | Permintaan/hari(kg) | Interval Angka Acak | Bilangan Acak | Simulasi Permintaan |\n",
            "+----+---------------------+---------------------+---------------+---------------------+\n",
            "| 1  |          25         |         0-13        |       12      |          25         |\n",
            "| 2  |          35         |        14-21        |       4       |          25         |\n",
            "| 3  |          40         |        22-31        |       26      |          40         |\n",
            "| 4  |          45         |        32-34        |       57      |          15         |\n",
            "| 5  |          30         |        35-49        |       48      |          30         |\n",
            "| 6  |          55         |        50-49        |       27      |          40         |\n",
            "| 7  |          20         |        50-56        |       39      |          30         |\n",
            "| 8  |          15         |        57-60        |       6       |          25         |\n",
            "| 9  |          10         |        61-65        |       51      |          20         |\n",
            "| 10 |          50         |        66-78        |       34      |          45         |\n",
            "| 11 |          25         |        79-86        |       35      |          30         |\n",
            "| 12 |          55         |        87-92        |       17      |          35         |\n",
            "| 13 |          60         |        93-94        |       36      |          30         |\n",
            "| 14 |          30         |        95-100       |       60      |          15         |\n",
            "+----+---------------------+---------------------+---------------+---------------------+\n",
            "Total Permintaan = 405 kg\n"
          ],
          "name": "stdout"
        }
      ]
    },
    {
      "cell_type": "code",
      "metadata": {
        "colab": {
          "base_uri": "https://localhost:8080/"
        },
        "id": "yD92cisWNFnM",
        "outputId": "8fd4e007-4ac9-4be0-92f4-9736af3b0db8"
      },
      "source": [
        "#Memenghitung Keuntungan\n",
        "table5 = PrettyTable(['No', 'Simulasi Permintaan','Keuntungan'])\n",
        "for i in range(len(simulasi)):\n",
        "    tk = simulasi[i] * harga - simulasi[i] * modal\n",
        "    table5.add_row([i+1,simulasi[i], tk])\n",
        "    untung.append(tk)\n",
        "    jadi = jadi + tk\n",
        "print(table5)\n",
        "print('Total Keuntungan = Rp', jadi)"
      ],
      "execution_count": 8,
      "outputs": [
        {
          "output_type": "stream",
          "text": [
            "+----+---------------------+------------+\n",
            "| No | Simulasi Permintaan | Keuntungan |\n",
            "+----+---------------------+------------+\n",
            "| 1  |          25         |   500000   |\n",
            "| 2  |          25         |   500000   |\n",
            "| 3  |          40         |   800000   |\n",
            "| 4  |          15         |   300000   |\n",
            "| 5  |          30         |   600000   |\n",
            "| 6  |          40         |   800000   |\n",
            "| 7  |          30         |   600000   |\n",
            "| 8  |          25         |   500000   |\n",
            "| 9  |          20         |   400000   |\n",
            "| 10 |          45         |   900000   |\n",
            "| 11 |          30         |   600000   |\n",
            "| 12 |          35         |   700000   |\n",
            "| 13 |          30         |   600000   |\n",
            "| 14 |          15         |   300000   |\n",
            "+----+---------------------+------------+\n",
            "Total Keuntungan = Rp 8100000\n"
          ],
          "name": "stdout"
        }
      ]
    },
    {
      "cell_type": "code",
      "metadata": {
        "id": "7B0agCPNNJYC",
        "colab": {
          "base_uri": "https://localhost:8080/",
          "height": 556
        },
        "outputId": "2c7bbef1-e920-491f-cbd8-699684455d8c"
      },
      "source": [
        "#Membuat Grafik Simulasi Permintaan\n",
        "f = plt.figure(num='Grafik Simulasi Permintaan')\n",
        "f = plt.plot(hari,simulasi, marker=\"o\")\n",
        "f = plt.xticks(np.arange(0, max(hari), 1))\n",
        "f = plt.yticks(np.arange(0, max(simulasi)+20, 5))\n",
        "f = plt.xlabel(\"Hari\")\n",
        "f = plt.ylabel(\"Kilogram\")\n",
        "\n",
        "#Membuat Grafik Simulasi Keuntungan\n",
        "g = plt.figure(num='Grafik Simulasi Keuntungan')\n",
        "g = plt.plot(hari,untung, marker=\"o\")\n",
        "f = plt.xticks(np.arange(0, max(hari), 1))\n",
        "g = plt.yticks(np.arange(0, max(untung)+200000, 100000))\n",
        "g = plt.xlabel(\"Hari\")\n",
        "g = plt.ylabel(\"Rupiah\")"
      ],
      "execution_count": 9,
      "outputs": [
        {
          "output_type": "display_data",
          "data": {
            "image/png": "[encoded data removed]",
            "text/plain": [
              "<Figure size 432x288 with 1 Axes>"
            ]
          },
          "metadata": {
            "tags": [],
            "needs_background": "light"
          }
        },
        {
          "output_type": "display_data",
          "data": {
            "image/png": "[encoded data removed]",
            "text/plain": [
              "<Figure size 432x288 with 1 Axes>"
            ]
          },
          "metadata": {
            "tags": [],
            "needs_background": "light"
          }
        }
      ]
    },
    {
      "cell_type": "code",
      "metadata": {
        "id": "kydl3xgDNNA_"
      },
      "source": [
        "#Menampilkan Grafik\n",
        "plt.show()"
      ],
      "execution_count": 10,
      "outputs": []
    }
  ]
}